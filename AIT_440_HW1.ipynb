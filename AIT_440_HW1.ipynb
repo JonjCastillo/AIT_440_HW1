{
  "nbformat": 4,
  "nbformat_minor": 0,
  "metadata": {
    "colab": {
      "provenance": []
    },
    "kernelspec": {
      "name": "python3",
      "display_name": "Python 3"
    },
    "language_info": {
      "name": "python"
    }
  },
  "cells": [
    {
      "cell_type": "markdown",
      "source": [
        "# Miles to Kilometers ML Model"
      ],
      "metadata": {
        "id": "rrP2y9XouCcR"
      }
    },
    {
      "cell_type": "markdown",
      "source": [
        "The main equation for converting miles to kilometers is as follows:\n",
        "\n",
        "**kilometers = miles × 1.60934**\n"
      ],
      "metadata": {
        "id": "UtBdAv_wuGy8"
      }
    },
    {
      "cell_type": "code",
      "execution_count": 1,
      "metadata": {
        "id": "H9qUaMejqy-T"
      },
      "outputs": [],
      "source": [
        "import tensorflow as tf\n",
        "import numpy as np\n",
        "import matplotlib.pyplot as plt\n",
        "from tensorflow.keras.models import Sequential\n",
        "from tensorflow.keras.layers import Dense"
      ]
    },
    {
      "cell_type": "code",
      "source": [
        "# data to convert miles to kilometers\n",
        "miles_q = np.array([1, 5, 10, 25, 50, 100], dtype=float)\n",
        "km_a = np.array([1.60934, 8.0467, 16.0934, 40.2355, 80.467, 160.934], dtype=float)\n",
        "\n",
        "#display reference\n",
        "for i,c in enumerate(miles_q):\n",
        "  print(f\"{c} miles = {km_a[i]} kilometers\".format(c, km_a[i]))"
      ],
      "metadata": {
        "colab": {
          "base_uri": "https://localhost:8080/"
        },
        "id": "kYV3mcxZsSi0",
        "outputId": "d9db01ca-0227-4e9c-ccb0-71810dfa2889"
      },
      "execution_count": 2,
      "outputs": [
        {
          "output_type": "stream",
          "name": "stdout",
          "text": [
            "1.0 miles = 1.60934 kilometers\n",
            "5.0 miles = 8.0467 kilometers\n",
            "10.0 miles = 16.0934 kilometers\n",
            "25.0 miles = 40.2355 kilometers\n",
            "50.0 miles = 80.467 kilometers\n",
            "100.0 miles = 160.934 kilometers\n"
          ]
        }
      ]
    },
    {
      "cell_type": "code",
      "source": [
        "# make nerual network with one neuron\n",
        "\n",
        "model = tf.keras.Sequential([\n",
        "  tf.keras.layers.Dense(units=1, input_shape=[1])\n",
        "])\n",
        "\n",
        "model.compile(\n",
        "  loss='mean_squared_error',\n",
        "  optimizer=tf.keras.optimizers.Adam(0.1)\n",
        ")\n",
        "\n",
        "history = model.fit(miles_q, km_a, epochs=500, verbose=False)\n",
        "print(\"Finished training the model\")"
      ],
      "metadata": {
        "colab": {
          "base_uri": "https://localhost:8080/"
        },
        "id": "bL--9wVKtB2Y",
        "outputId": "1b992c6f-3ece-4dd1-ce8c-3c0198726db1"
      },
      "execution_count": 3,
      "outputs": [
        {
          "output_type": "stream",
          "name": "stderr",
          "text": [
            "/usr/local/lib/python3.10/dist-packages/keras/src/layers/core/dense.py:87: UserWarning: Do not pass an `input_shape`/`input_dim` argument to a layer. When using Sequential models, prefer using an `Input(shape)` object as the first layer in the model instead.\n",
            "  super().__init__(activity_regularizer=activity_regularizer, **kwargs)\n"
          ]
        },
        {
          "output_type": "stream",
          "name": "stdout",
          "text": [
            "Finished training the model\n"
          ]
        }
      ]
    },
    {
      "cell_type": "code",
      "source": [
        "#plotting the training loss\n",
        "plt.xlabel('Epoch Number')\n",
        "plt.ylabel(\"Loss Magnitude\")\n",
        "plt.plot(history.history['loss'])\n",
        "plt.show()"
      ],
      "metadata": {
        "colab": {
          "base_uri": "https://localhost:8080/",
          "height": 449
        },
        "id": "hXRCPOTttYSF",
        "outputId": "626ce380-ce5c-4b98-f4a3-c31471f0ad69"
      },
      "execution_count": 4,
      "outputs": [
        {
          "output_type": "display_data",
          "data": {
            "text/plain": [
              "<Figure size 640x480 with 1 Axes>"
            ],
            "image/png": "[encoded data removed]"
          },
          "metadata": {}
        }
      ]
    },
    {
      "cell_type": "code",
      "source": [
        "# Testing for new input\n",
        "print(f\"Prediction for 70 miles: {model.predict(np.array([70.0]))}\")"
      ],
      "metadata": {
        "colab": {
          "base_uri": "https://localhost:8080/"
        },
        "id": "IzQ3EU1atevk",
        "outputId": "eb09acca-efd1-47bf-962e-6d7b13483272"
      },
      "execution_count": 7,
      "outputs": [
        {
          "output_type": "stream",
          "name": "stdout",
          "text": [
            "\u001b[1m1/1\u001b[0m \u001b[32m━━━━━━━━━━━━━━━━━━━━\u001b[0m\u001b[37m\u001b[0m \u001b[1m0s\u001b[0m 40ms/step\n",
            "Prediction for 70 miles: [[112.65406]]\n"
          ]
        }
      ]
    },
    {
      "cell_type": "code",
      "source": [
        "layer = model.layers[0]\n",
        "print(f\"Learned weight and bias: {layer.get_weights()}\")"
      ],
      "metadata": {
        "colab": {
          "base_uri": "https://localhost:8080/"
        },
        "id": "qN4wlkQkuUAD",
        "outputId": "f929fff6-7545-4195-8404-8bc9b852ac1f"
      },
      "execution_count": 8,
      "outputs": [
        {
          "output_type": "stream",
          "name": "stdout",
          "text": [
            "Learned weight and bias: [array([[1.609338]], dtype=float32), array([0.00039369], dtype=float32)]\n"
          ]
        }
      ]
    },
    {
      "cell_type": "markdown",
      "source": [
        "The Learned weight for the equations is 1.609338\n",
        "Compared to the actual value of 1.60934 that is needed to calculate accuately the converstion.\n",
        "\n",
        "With further training the model will most likely approach the exact value."
      ],
      "metadata": {
        "id": "BLFww3VVugTe"
      }
    }
  ]
}